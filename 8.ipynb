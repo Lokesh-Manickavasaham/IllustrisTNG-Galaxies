{
 "cells": [
  {
   "cell_type": "code",
   "execution_count": 1,
   "id": "ba98840d-ee2d-44cc-9d5c-da02c3f7d7b4",
   "metadata": {
    "tags": []
   },
   "outputs": [],
   "source": [
    "import illustris_python as il\n",
    "import snapshot as sn\n",
    "import numpy as np\n",
    "import h5py"
   ]
  },
  {
   "cell_type": "markdown",
   "id": "a5f136b9-3a45-49ce-acc1-83e4448c4199",
   "metadata": {},
   "source": [
    "Let us take the mass range as between $10^{11} M_\\odot$ ans $10^{15} M_\\odot$, load their particles and compute their masses."
   ]
  },
  {
   "cell_type": "code",
   "execution_count": 2,
   "id": "4833d3bc-a9ee-4895-b815-51372287de01",
   "metadata": {
    "tags": []
   },
   "outputs": [],
   "source": [
    "h = 0.6774\n",
    "z = 0\n",
    "a = 1 / (1 + z)\n",
    "max_mass = 1e15\n",
    "min_mass = 1e11"
   ]
  },
  {
   "cell_type": "code",
   "execution_count": 3,
   "id": "8b4d6f60-081c-40bc-bbbc-673b1ae411a5",
   "metadata": {
    "tags": []
   },
   "outputs": [],
   "source": [
    "basePath = '../sims.TNG/TNG100-1/output/'"
   ]
  },
  {
   "cell_type": "code",
   "execution_count": 4,
   "id": "fc91fdb1-03ff-4db7-beeb-e26d1684ea73",
   "metadata": {
    "tags": []
   },
   "outputs": [],
   "source": [
    "header = il.groupcat.loadHeader(basePath, 99)"
   ]
  },
  {
   "cell_type": "code",
   "execution_count": 5,
   "id": "c1124039-bda2-4d72-917e-dbe2c35bd66a",
   "metadata": {
    "tags": []
   },
   "outputs": [
    {
     "data": {
      "text/plain": [
       "6291349"
      ]
     },
     "execution_count": 5,
     "metadata": {},
     "output_type": "execute_result"
    }
   ],
   "source": [
    "header['Ngroups_Total']"
   ]
  },
  {
   "cell_type": "code",
   "execution_count": 6,
   "id": "d5c039cb-7327-4420-b52a-b2bbedb70373",
   "metadata": {
    "tags": []
   },
   "outputs": [],
   "source": [
    "halos = il.groupcat.loadHalos(basePath, 99, fields='GroupMass')"
   ]
  },
  {
   "cell_type": "code",
   "execution_count": 7,
   "id": "e557fcc0-d5ac-4dc7-a79d-0b624928da2f",
   "metadata": {
    "tags": []
   },
   "outputs": [
    {
     "data": {
      "text/plain": [
       "(0, 6038642)"
      ]
     },
     "execution_count": 7,
     "metadata": {},
     "output_type": "execute_result"
    }
   ],
   "source": [
    "np.argmax(halos), np.argmin(halos)"
   ]
  },
  {
   "cell_type": "code",
   "execution_count": 8,
   "id": "745faecf-d9b4-4689-9eb4-1e60620010a2",
   "metadata": {
    "tags": []
   },
   "outputs": [
    {
     "data": {
      "text/plain": [
       "(0.0024157632, 0.0031525954, 0.0024157632)"
      ]
     },
     "execution_count": 8,
     "metadata": {},
     "output_type": "execute_result"
    }
   ],
   "source": [
    "np.min(halos), halos[-1], halos[6038642]"
   ]
  },
  {
   "cell_type": "code",
   "execution_count": 9,
   "id": "11cf63ee-aeec-4873-90ff-dfdcd10df908",
   "metadata": {
    "tags": []
   },
   "outputs": [],
   "source": [
    "halos_mass = halos * 1e10 / h"
   ]
  },
  {
   "cell_type": "code",
   "execution_count": 10,
   "id": "05374849-0c43-443d-bd8d-94d03dcb78bf",
   "metadata": {
    "tags": []
   },
   "outputs": [],
   "source": [
    "req_indices = np.where((halos_mass > min_mass) & (halos_mass < max_mass))[0]"
   ]
  },
  {
   "cell_type": "code",
   "execution_count": 11,
   "id": "d45aee33-610b-43ea-907f-aab546e6fa4d",
   "metadata": {
    "tags": []
   },
   "outputs": [
    {
     "data": {
      "text/plain": [
       "17292"
      ]
     },
     "execution_count": 11,
     "metadata": {},
     "output_type": "execute_result"
    }
   ],
   "source": [
    "len(req_indices) "
   ]
  },
  {
   "cell_type": "markdown",
   "id": "aeb343d7-c3c0-4fde-91db-fd1288516483",
   "metadata": {},
   "source": [
    "First, let us compute the total mass of the shortlisted halos as given in the group catalog"
   ]
  },
  {
   "cell_type": "code",
   "execution_count": 12,
   "id": "19554ed0-ae89-4b0f-b7a0-3eba34a3fb7a",
   "metadata": {
    "tags": []
   },
   "outputs": [],
   "source": [
    "total_sum = 0\n",
    "for i in range(len(req_indices)):\n",
    "    total_sum += halos_mass[req_indices[i]]"
   ]
  },
  {
   "cell_type": "code",
   "execution_count": 13,
   "id": "94ddc8d5-05b8-4edd-912e-f76951d74ff3",
   "metadata": {
    "tags": []
   },
   "outputs": [
    {
     "data": {
      "text/plain": [
       "2.082994693993267e+16"
      ]
     },
     "execution_count": 13,
     "metadata": {},
     "output_type": "execute_result"
    }
   ],
   "source": [
    "total_sum # Summing the pre-existing halo masses given in the Group Catalog"
   ]
  },
  {
   "cell_type": "markdown",
   "id": "80275b3d-d34a-478d-84c5-943715f16288",
   "metadata": {},
   "source": [
    "Now, let us find the sum of individual masses of different particles in the shortlisted halos"
   ]
  },
  {
   "cell_type": "code",
   "execution_count": 14,
   "id": "66021f06-8f94-4c32-9113-e4ad5a5f7105",
   "metadata": {},
   "outputs": [],
   "source": [
    "part_type = [0, 4, 5]"
   ]
  },
  {
   "cell_type": "code",
   "execution_count": 15,
   "id": "06392882-ae26-41de-bd9d-ec13cfc67809",
   "metadata": {
    "tags": []
   },
   "outputs": [],
   "source": [
    "part_data = np.zeros((len(req_indices), len(part_type)))"
   ]
  },
  {
   "cell_type": "code",
   "execution_count": 16,
   "id": "ca52b6cd-6609-486c-b4b4-b49561026f40",
   "metadata": {},
   "outputs": [],
   "source": [
    "fields_h = ['Masses']"
   ]
  },
  {
   "cell_type": "code",
   "execution_count": 17,
   "id": "7d325764-54c6-4fa0-a728-7e56053f8d3a",
   "metadata": {
    "tags": []
   },
   "outputs": [],
   "source": [
    "check = 0\n",
    "for i in range(len(req_indices)):\n",
    "    count = 0\n",
    "    for j in range(len(part_type)):\n",
    "        data = sn.loadHalo(basePath, 99, req_indices[i], part_type[j], fields=fields_h)\n",
    "        \n",
    "        # Check if the loaded data is a dictionary\n",
    "        if isinstance(data, dict):\n",
    "            part_data[i, j] = 0  # Skip summing if it's a dictionary (i.e., if count is 0)\n",
    "        else:\n",
    "            part_data[i, j] = np.sum(data)\n",
    "            \n",
    "        count += 1\n",
    "    check += 1"
   ]
  },
  {
   "cell_type": "code",
   "execution_count": 18,
   "id": "3e545a99-d52a-438b-b994-b0fcc8ac5427",
   "metadata": {
    "tags": []
   },
   "outputs": [
    {
     "data": {
      "text/plain": [
       "(17292, 3)"
      ]
     },
     "execution_count": 18,
     "metadata": {},
     "output_type": "execute_result"
    }
   ],
   "source": [
    "check, count"
   ]
  },
  {
   "cell_type": "code",
   "execution_count": 19,
   "id": "c40ea115-219d-40ec-ae0f-3636fe3b66fd",
   "metadata": {
    "tags": []
   },
   "outputs": [],
   "source": [
    "bary_sum = np.zeros(len(part_type))"
   ]
  },
  {
   "cell_type": "code",
   "execution_count": 20,
   "id": "7dc29937-8492-48ef-a807-3184434d1ca3",
   "metadata": {
    "tags": []
   },
   "outputs": [],
   "source": [
    "for i in range(len(part_type)):\n",
    "    bary_sum[i] = np.sum(part_data[:, i]) * 1e10 / h"
   ]
  },
  {
   "cell_type": "code",
   "execution_count": 21,
   "id": "f456a45d-15b4-4708-8c22-f57ad50a2bd8",
   "metadata": {
    "tags": []
   },
   "outputs": [
    {
     "data": {
      "text/plain": [
       "array([1.83939016e+15, 4.29755293e+14, 1.58756697e+12])"
      ]
     },
     "execution_count": 21,
     "metadata": {},
     "output_type": "execute_result"
    }
   ],
   "source": [
    "bary_sum"
   ]
  },
  {
   "cell_type": "code",
   "execution_count": 22,
   "id": "25464007-5f92-47f1-a874-81429ba5eede",
   "metadata": {
    "tags": []
   },
   "outputs": [],
   "source": [
    "total_sum1 = np.sum(bary_sum)"
   ]
  },
  {
   "cell_type": "code",
   "execution_count": 23,
   "id": "22062747-65b2-45bb-8f75-4b8c9a1bff16",
   "metadata": {
    "tags": []
   },
   "outputs": [
    {
     "data": {
      "text/plain": [
       "2270733015987133.0"
      ]
     },
     "execution_count": 23,
     "metadata": {},
     "output_type": "execute_result"
    }
   ],
   "source": [
    "total_sum1 # Computed sum of masses of all the baryonic particles"
   ]
  },
  {
   "cell_type": "code",
   "execution_count": 24,
   "id": "4ed1de2a-665b-45ce-a613-9d3990a7a6e1",
   "metadata": {
    "tags": []
   },
   "outputs": [
    {
     "data": {
      "text/plain": [
       "9.17322591131546"
      ]
     },
     "execution_count": 24,
     "metadata": {},
     "output_type": "execute_result"
    }
   ],
   "source": [
    "total_sum / total_sum1"
   ]
  },
  {
   "cell_type": "markdown",
   "id": "e785cd5b-3083-4dfe-a77d-881be9b841d1",
   "metadata": {},
   "source": [
    "Since, the total mass is one order of magnitude larger than the sum of the baryonic masses, we need to consider the masses of the dark matter particles also."
   ]
  },
  {
   "cell_type": "code",
   "execution_count": 25,
   "id": "a3772259-6e35-4bdf-be52-7c613a32b577",
   "metadata": {},
   "outputs": [],
   "source": [
    "snapshot_path = sn.snapPath(basePath, 99)"
   ]
  },
  {
   "cell_type": "code",
   "execution_count": 26,
   "id": "65c66c4b-8e51-4ec2-9a32-a3dd0a1fa5d6",
   "metadata": {},
   "outputs": [],
   "source": [
    "hdf = h5py.File(snapshot_path, 'r')"
   ]
  },
  {
   "cell_type": "code",
   "execution_count": 27,
   "id": "8d884372-13a6-40d0-b98d-590e1784bc4b",
   "metadata": {},
   "outputs": [],
   "source": [
    "masses = hdf['Header'].attrs['MassTable']"
   ]
  },
  {
   "cell_type": "code",
   "execution_count": 28,
   "id": "d8147bef-b57c-436b-960a-7ed74d9f84dd",
   "metadata": {},
   "outputs": [],
   "source": [
    "mass_dm = masses[1] * 1e10 / h"
   ]
  },
  {
   "cell_type": "code",
   "execution_count": 29,
   "id": "8316222a-01c2-43fb-880b-f8a1c77f2127",
   "metadata": {},
   "outputs": [],
   "source": [
    "halo_info = il.groupcat.loadHalos(basePath, 99, fields='GroupLenType')"
   ]
  },
  {
   "cell_type": "code",
   "execution_count": 30,
   "id": "d5448da8-6bde-4621-a9b9-3541aef5e6ac",
   "metadata": {
    "tags": []
   },
   "outputs": [
    {
     "data": {
      "text/plain": [
       "(6291349, 6)"
      ]
     },
     "execution_count": 30,
     "metadata": {},
     "output_type": "execute_result"
    }
   ],
   "source": [
    "np.shape(halo_info)"
   ]
  },
  {
   "cell_type": "code",
   "execution_count": 31,
   "id": "ebbe14d8-e11b-4ca1-96a7-758dc86d968c",
   "metadata": {
    "tags": []
   },
   "outputs": [],
   "source": [
    "total_dm = np.sum(halo_info[req_indices, 1])"
   ]
  },
  {
   "cell_type": "code",
   "execution_count": 32,
   "id": "553c70eb-7c2d-4a72-aedb-45ed34428543",
   "metadata": {
    "tags": []
   },
   "outputs": [
    {
     "data": {
      "text/plain": [
       "2486679292"
      ]
     },
     "execution_count": 32,
     "metadata": {},
     "output_type": "execute_result"
    }
   ],
   "source": [
    "total_dm # Total number of dm particles"
   ]
  },
  {
   "cell_type": "code",
   "execution_count": 33,
   "id": "5eb4e920-05c9-4637-a34f-aa5be620268c",
   "metadata": {},
   "outputs": [],
   "source": [
    "total_dm_mass = (mass_dm * total_dm) # Total mass of dm particles"
   ]
  },
  {
   "cell_type": "code",
   "execution_count": 34,
   "id": "118ec988-a564-44a5-84ac-e2dd96798d0e",
   "metadata": {
    "tags": []
   },
   "outputs": [],
   "source": [
    "sum_total = np.append(bary_sum, total_dm_mass)"
   ]
  },
  {
   "cell_type": "code",
   "execution_count": 35,
   "id": "b080375a-8ce0-427d-ac8f-04470223e5e0",
   "metadata": {
    "tags": []
   },
   "outputs": [
    {
     "data": {
      "text/plain": [
       "array([1.83939016e+15, 4.29755293e+14, 1.58756697e+12, 1.85592137e+16])"
      ]
     },
     "execution_count": 35,
     "metadata": {},
     "output_type": "execute_result"
    }
   ],
   "source": [
    "sum_total # Total sum of masses of all particles"
   ]
  },
  {
   "cell_type": "markdown",
   "id": "48d26925-a057-47df-8c7a-4b7bb4927adc",
   "metadata": {},
   "source": [
    "Finally, let us load the pre-existing part-wise masses from the group catalog"
   ]
  },
  {
   "cell_type": "code",
   "execution_count": 36,
   "id": "9e7f84d9-93ef-4a59-92b9-c634e709773c",
   "metadata": {
    "tags": []
   },
   "outputs": [],
   "source": [
    "parts = il.groupcat.loadHalos(basePath, 99, fields='GroupMassType')"
   ]
  },
  {
   "cell_type": "code",
   "execution_count": 37,
   "id": "c5f01b2d-908b-43cb-b51f-58a81e89487e",
   "metadata": {
    "tags": []
   },
   "outputs": [],
   "source": [
    "part_0 = np.zeros(len(req_indices))\n",
    "part_1 = np.zeros(len(req_indices))\n",
    "part_4 = np.zeros(len(req_indices))\n",
    "part_5 = np.zeros(len(req_indices))"
   ]
  },
  {
   "cell_type": "code",
   "execution_count": 38,
   "id": "dfa92eb8-91f3-40c5-8fde-7b6e707149b7",
   "metadata": {
    "tags": []
   },
   "outputs": [],
   "source": [
    "for i in range(len(req_indices)):\n",
    "    part_0[i] = parts[req_indices[i], 0] * 1e10 / h\n",
    "    part_1[i] = parts[req_indices[i], 1] * 1e10 / h\n",
    "    part_4[i] = parts[req_indices[i], 4] * 1e10 / h\n",
    "    part_5[i] = parts[req_indices[i], 5] * 1e10 / h"
   ]
  },
  {
   "cell_type": "code",
   "execution_count": 39,
   "id": "606a792f-9832-454c-b281-305b455eb4c0",
   "metadata": {
    "tags": []
   },
   "outputs": [],
   "source": [
    "part_total = np.array([np.sum(part_0), np.sum(part_1), np.sum(part_4), np.sum(part_5)])"
   ]
  },
  {
   "cell_type": "code",
   "execution_count": 40,
   "id": "c767155b-d3cf-4219-945e-b3ba5945cca7",
   "metadata": {
    "tags": []
   },
   "outputs": [
    {
     "data": {
      "text/plain": [
       "array([1.83994736e+15, 1.85592136e+16, 4.29198195e+14, 1.58756697e+12])"
      ]
     },
     "execution_count": 40,
     "metadata": {},
     "output_type": "execute_result"
    }
   ],
   "source": [
    "part_total # Summing the pre-existing part-wise masses of all the particles"
   ]
  },
  {
   "cell_type": "code",
   "execution_count": 41,
   "id": "06555374-e633-42ff-b19a-0e50f11f6d3e",
   "metadata": {
    "tags": []
   },
   "outputs": [
    {
     "data": {
      "text/plain": [
       "(2.082994693993267e+16, 2.0829946746544244e+16, 2.082994667877565e+16)"
      ]
     },
     "execution_count": 41,
     "metadata": {},
     "output_type": "execute_result"
    }
   ],
   "source": [
    "total_sum, np.sum(part_total), np.sum(sum_total)"
   ]
  },
  {
   "cell_type": "code",
   "execution_count": 42,
   "id": "f0b9fc9d-fba0-47bf-9ada-302874d62a72",
   "metadata": {
    "tags": []
   },
   "outputs": [
    {
     "data": {
      "text/plain": [
       "1.0000000125375752"
      ]
     },
     "execution_count": 42,
     "metadata": {},
     "output_type": "execute_result"
    }
   ],
   "source": [
    "total_sum / np.sum(sum_total)"
   ]
  },
  {
   "cell_type": "code",
   "execution_count": 43,
   "id": "6ef66f34-125d-40c4-9034-a91fabd93e68",
   "metadata": {
    "tags": []
   },
   "outputs": [
    {
     "data": {
      "text/plain": [
       "1.0000000032534215"
      ]
     },
     "execution_count": 43,
     "metadata": {},
     "output_type": "execute_result"
    }
   ],
   "source": [
    "np.sum(part_total) / np.sum(sum_total)"
   ]
  },
  {
   "cell_type": "code",
   "execution_count": 44,
   "id": "b6e565f4-87c1-41b6-ae01-b700e7166bc0",
   "metadata": {
    "tags": []
   },
   "outputs": [
    {
     "data": {
      "text/plain": [
       "1.0000000092841537"
      ]
     },
     "execution_count": 44,
     "metadata": {},
     "output_type": "execute_result"
    }
   ],
   "source": [
    "total_sum / np.sum(part_total)"
   ]
  },
  {
   "cell_type": "markdown",
   "id": "97e95e32-f970-40d2-ab92-95f3dd44f1cb",
   "metadata": {},
   "source": [
    "Hence, it clear that total_sum ~ np.sum(part_total) ~ np.sum(sum_total)."
   ]
  }
 ],
 "metadata": {
  "kernelspec": {
   "display_name": "Python 3 (ipykernel)",
   "language": "python",
   "name": "python3"
  },
  "language_info": {
   "codemirror_mode": {
    "name": "ipython",
    "version": 3
   },
   "file_extension": ".py",
   "mimetype": "text/x-python",
   "name": "python",
   "nbconvert_exporter": "python",
   "pygments_lexer": "ipython3",
   "version": "3.11.4"
  }
 },
 "nbformat": 4,
 "nbformat_minor": 5
}
