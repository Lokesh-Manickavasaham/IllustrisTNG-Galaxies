{
 "cells": [
  {
   "cell_type": "code",
   "execution_count": 1,
   "id": "b24d18a7-f92e-48e4-914e-72451645afee",
   "metadata": {},
   "outputs": [],
   "source": [
    "import illustris_python as il\n",
    "import numpy as np\n",
    "import matplotlib.pyplot as plt\n",
    "import snapshot as sn\n",
    "import h5py\n",
    "from scipy.stats import binned_statistic_2d\n",
    "import re"
   ]
  },
  {
   "cell_type": "code",
   "execution_count": 2,
   "id": "940e9669-2287-4953-bd68-afe69438f30d",
   "metadata": {
    "tags": []
   },
   "outputs": [],
   "source": [
    "basePath = '../sims.TNG/TNG300-1/output/'\n",
    "SnapNum = 99"
   ]
  },
  {
   "cell_type": "code",
   "execution_count": 3,
   "id": "79d65b78-70e6-4fc8-9aed-97a510409855",
   "metadata": {
    "tags": []
   },
   "outputs": [
    {
     "data": {
      "text/plain": [
       "'300-1'"
      ]
     },
     "execution_count": 3,
     "metadata": {},
     "output_type": "execute_result"
    }
   ],
   "source": [
    "simulation = (re.search(r'TNG(\\d+-\\d+)/', basePath)).group(1)\n",
    "simulation"
   ]
  },
  {
   "cell_type": "code",
   "execution_count": 4,
   "id": "49f43cf1-d58c-48ee-93a9-89906d10dfda",
   "metadata": {
    "tags": []
   },
   "outputs": [],
   "source": [
    "# Defining a function for unit conversion\n",
    "def UnitConversion(array, unit):\n",
    "    if unit == 'mass':\n",
    "        array = array * 1e10 / h # In Msun unit\n",
    "    if unit == 'length':\n",
    "        array = array * a / (1e3 * h) # In Mpc unit\n",
    "    return array"
   ]
  },
  {
   "cell_type": "code",
   "execution_count": 5,
   "id": "0fb5fb54-c760-4b89-90b5-22070bbb593b",
   "metadata": {},
   "outputs": [],
   "source": [
    "header = il.groupcat.loadHeader(basePath, SnapNum)\n",
    "h = header['HubbleParam']\n",
    "a = header['Time']\n",
    "box_size = UnitConversion(header['BoxSize'], 'length')"
   ]
  },
  {
   "cell_type": "code",
   "execution_count": 6,
   "id": "be8e3a94-cc00-4b3b-a27b-28b1516ef185",
   "metadata": {},
   "outputs": [],
   "source": [
    "def chunkPath(basePath, snapNum, chunkNum):\n",
    "    snapPath = basePath + '/snapdir_' + str(snapNum).zfill(3) + '/'\n",
    "    filePath = snapPath + 'snap_' + str(snapNum).zfill(3)\n",
    "    filePath += '.' + str(chunkNum) + '.hdf5'\n",
    "    return filePath"
   ]
  },
  {
   "cell_type": "code",
   "execution_count": 7,
   "id": "9e69122b-2455-435e-b8a4-278af1e83e95",
   "metadata": {
    "tags": []
   },
   "outputs": [
    {
     "data": {
      "text/plain": [
       "600"
      ]
     },
     "execution_count": 7,
     "metadata": {},
     "output_type": "execute_result"
    }
   ],
   "source": [
    "snapshot_path = sn.snapPath(basePath, 99)\n",
    "snap_head = h5py.File(snapshot_path, 'r')\n",
    "tot_chunks = snap_head['Header'].attrs['NumFilesPerSnapshot']\n",
    "tot_chunks"
   ]
  },
  {
   "cell_type": "code",
   "execution_count": 8,
   "id": "97fb80b4-7f8a-4c0b-9ed8-ac62c1009bb3",
   "metadata": {
    "tags": []
   },
   "outputs": [
    {
     "data": {
      "text/plain": [
       "58804657.49447129"
      ]
     },
     "execution_count": 8,
     "metadata": {},
     "output_type": "execute_result"
    }
   ],
   "source": [
    "mass_table = snap_head['Header'].attrs['MassTable']\n",
    "mass_dm = UnitConversion(mass_table[1], 'mass')\n",
    "mass_dm"
   ]
  },
  {
   "cell_type": "code",
   "execution_count": 9,
   "id": "ee5c74ad-eacb-49b8-b42d-506434bbde4a",
   "metadata": {},
   "outputs": [],
   "source": [
    "nPixels = [600, 600]\n",
    "minMax = [0, box_size]"
   ]
  },
  {
   "cell_type": "code",
   "execution_count": 10,
   "id": "32849f78-2ce5-4c35-8d36-7068531c7b4f",
   "metadata": {
    "tags": []
   },
   "outputs": [],
   "source": [
    "net_grid = np.zeros(nPixels)"
   ]
  },
  {
   "cell_type": "code",
   "execution_count": null,
   "id": "bab69287-7299-4b25-b2b7-3b014a796f49",
   "metadata": {
    "tags": []
   },
   "outputs": [
    {
     "name": "stdout",
     "output_type": "stream",
     "text": [
      "1 "
     ]
    }
   ],
   "source": [
    "for i in range(tot_chunks):\n",
    "    filePath = chunkPath(basePath, SnapNum, i)\n",
    "    with h5py.File(filePath, 'r') as data:\n",
    "        header = dict(data['Header'].attrs.items())\n",
    "        num_part = header['NumPart_ThisFile']\n",
    "        x_dist = []\n",
    "        y_dist = []\n",
    "        mass = []\n",
    "        \n",
    "        if num_part[0] != 0:\n",
    "            p0_x = UnitConversion(data['PartType0']['Coordinates'][:, 0], 'length')\n",
    "            p0_y = UnitConversion(data['PartType0']['Coordinates'][:, 1], 'length')\n",
    "            m0 = UnitConversion(data['PartType0']['Masses'][()], 'mass')\n",
    "            x_dist.extend(p0_x)\n",
    "            y_dist.extend(p0_y)\n",
    "            mass.extend(m0)\n",
    "        \n",
    "        if num_part[1] != 0:\n",
    "            p1_x = UnitConversion(data['PartType1']['Coordinates'][:, 0], 'length')\n",
    "            p1_y = UnitConversion(data['PartType1']['Coordinates'][:, 1], 'length')\n",
    "            m1 = np.full(num_part[1], mass_dm)\n",
    "            x_dist.extend(p1_x)\n",
    "            y_dist.extend(p1_y)\n",
    "            mass.extend(m1)\n",
    "        \n",
    "        if num_part[4] != 0:\n",
    "            p4_x = UnitConversion(data['PartType4']['Coordinates'][:, 0], 'length')\n",
    "            p4_y = UnitConversion(data['PartType4']['Coordinates'][:, 1], 'length')\n",
    "            m4 = UnitConversion(data['PartType4']['Masses'][()], 'mass')\n",
    "            x_dist.extend(p4_x)\n",
    "            y_dist.extend(p4_y)\n",
    "            mass.extend(m4)\n",
    "        \n",
    "        if num_part[5] != 0:\n",
    "            p5_x = UnitConversion(data['PartType5']['Coordinates'][:, 0], 'length')\n",
    "            p5_y = UnitConversion(data['PartType5']['Coordinates'][:, 1], 'length')\n",
    "            m5 = UnitConversion(data['PartType5']['Masses'][()], 'mass')\n",
    "            x_dist.extend(p5_x)\n",
    "            y_dist.extend(p5_y)\n",
    "            mass.extend(m5)\n",
    "        \n",
    "        grid, _, _, _ = binned_statistic_2d(x_dist, y_dist, mass, 'sum', bins=nPixels, range=[minMax, minMax])\n",
    "        net_grid += grid \n",
    "    print(i+1, end=' ')"
   ]
  },
  {
   "cell_type": "code",
   "execution_count": null,
   "id": "4511b5af-8f31-4578-ae12-ce1cb469c615",
   "metadata": {
    "tags": []
   },
   "outputs": [],
   "source": [
    "pxSize = box_size / nPixels[0]\n",
    "pxArea = pxSize**2\n",
    "\n",
    "net_grid_density = net_grid / pxArea"
   ]
  },
  {
   "cell_type": "code",
   "execution_count": null,
   "id": "2b59e9e1-1991-441a-a074-34652edbeccd",
   "metadata": {
    "tags": []
   },
   "outputs": [],
   "source": [
    "extent = [0, box_size, 0, box_size]\n",
    "\n",
    "fig, ax = plt.subplots(figsize=(16,10))\n",
    "plt.imshow(net_grid_density, cmap='magma', norm='log', extent=extent, aspect=nPixels[1]/nPixels[0])\n",
    "ax.set_xlabel('x [Mpc]')\n",
    "ax.set_ylabel('y [Mpc]')\n",
    "ax.set_title(f'TNG{simulation}')\n",
    "plt.colorbar(label='Mass Surface Density [log M$_\\odot$ / Mpc$^{-2}$]')\n",
    "plt.savefig(f'TNG{simulation}.png')\n",
    "plt.show()"
   ]
  }
 ],
 "metadata": {
  "kernelspec": {
   "display_name": "Python 3 (ipykernel)",
   "language": "python",
   "name": "python3"
  },
  "language_info": {
   "codemirror_mode": {
    "name": "ipython",
    "version": 3
   },
   "file_extension": ".py",
   "mimetype": "text/x-python",
   "name": "python",
   "nbconvert_exporter": "python",
   "pygments_lexer": "ipython3",
   "version": "3.11.4"
  }
 },
 "nbformat": 4,
 "nbformat_minor": 5
}
