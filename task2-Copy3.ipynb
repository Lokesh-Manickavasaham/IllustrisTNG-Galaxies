{
 "cells": [
  {
   "cell_type": "code",
   "execution_count": 1,
   "id": "4307e58f-634c-4937-9c48-ce940882aea8",
   "metadata": {
    "tags": []
   },
   "outputs": [],
   "source": [
    "import illustris_python as il\n",
    "import numpy as np\n",
    "import matplotlib.pyplot as plt\n",
    "import scipy.stats as st\n",
    "import multiprocessing as mp"
   ]
  },
  {
   "cell_type": "code",
   "execution_count": 2,
   "id": "d75608c6-dcd9-4380-818d-2689f270fc36",
   "metadata": {
    "tags": []
   },
   "outputs": [],
   "source": [
    "basePath = '../sims.TNG/TNG300-1/output/'\n",
    "SnapNum = 99"
   ]
  },
  {
   "cell_type": "code",
   "execution_count": 3,
   "id": "6451e21f-ec17-47e2-8162-97d66e3b6c48",
   "metadata": {
    "tags": []
   },
   "outputs": [],
   "source": [
    "fields=['SubhaloLenType']"
   ]
  },
  {
   "cell_type": "code",
   "execution_count": 4,
   "id": "b23cd708-2167-418a-b4f4-4d287e06e8af",
   "metadata": {
    "tags": []
   },
   "outputs": [],
   "source": [
    "subhalos = il.groupcat.loadSubhalos(basePath, SnapNum, fields=fields)"
   ]
  },
  {
   "cell_type": "code",
   "execution_count": 5,
   "id": "5fef2a1d-32ae-4c5a-9d9f-3916141317c9",
   "metadata": {
    "tags": []
   },
   "outputs": [],
   "source": [
    "bh_data = [subhalo[5] for subhalo in subhalos]"
   ]
  },
  {
   "cell_type": "code",
   "execution_count": 6,
   "id": "2759a369-b4f9-4605-ac65-833d5b1f3bef",
   "metadata": {
    "tags": []
   },
   "outputs": [
    {
     "data": {
      "text/plain": [
       "array([142,  67,   2, ...,   0,   0,   0], dtype=int32)"
      ]
     },
     "execution_count": 6,
     "metadata": {},
     "output_type": "execute_result"
    }
   ],
   "source": [
    "np.array(bh_data)"
   ]
  },
  {
   "cell_type": "code",
   "execution_count": 9,
   "id": "43812e30-eed9-4a37-b6e9-29e68969a28d",
   "metadata": {
    "tags": []
   },
   "outputs": [],
   "source": [
    "nonzero_bh = np.nonzero(bh_data)"
   ]
  },
  {
   "cell_type": "code",
   "execution_count": 10,
   "id": "0011897e-f9e6-4909-8e49-018b2ee2d2af",
   "metadata": {
    "tags": []
   },
   "outputs": [
    {
     "data": {
      "text/plain": [
       "array([       0,        1,        2, ...,  9621714, 10167240, 10177105])"
      ]
     },
     "execution_count": 10,
     "metadata": {},
     "output_type": "execute_result"
    }
   ],
   "source": [
    "nonzero_bh[0]"
   ]
  },
  {
   "cell_type": "code",
   "execution_count": null,
   "id": "41915812-82d1-49f0-9238-1cee69439de9",
   "metadata": {},
   "outputs": [],
   "source": []
  },
  {
   "cell_type": "code",
   "execution_count": null,
   "id": "7632b381-56b8-4b68-b79b-118ffffa9705",
   "metadata": {},
   "outputs": [],
   "source": []
  },
  {
   "cell_type": "code",
   "execution_count": 3,
   "id": "5f1d1ade-fc7f-4aa6-8aed-3f68eb63e118",
   "metadata": {},
   "outputs": [],
   "source": [
    "threshold_mass = 10**10 # Minimum masses of the halos to select"
   ]
  },
  {
   "cell_type": "code",
   "execution_count": 4,
   "id": "0466b09b-212c-4d1c-86b2-7751e54e771a",
   "metadata": {
    "tags": []
   },
   "outputs": [],
   "source": [
    "# required_snapshots = [99, 33, 25, 13] # Corresponding to their respective redshifts\n",
    "# tot_snaps = len(required_snapshots)\n",
    "# tot_snaps"
   ]
  },
  {
   "cell_type": "code",
   "execution_count": 5,
   "id": "de898ba1-4ed7-4768-99f3-7c4d6b6cb3d4",
   "metadata": {
    "tags": []
   },
   "outputs": [],
   "source": [
    "# redshifts = []\n",
    "# for i in range(tot_snaps):\n",
    "#     header = il.groupcat.loadHeader(basePath, required_snapshots[i])\n",
    "#     redshifts.append(int(header['Redshift']))"
   ]
  },
  {
   "cell_type": "code",
   "execution_count": 6,
   "id": "076fc052-fb6c-4c82-9f90-b1ab13a0a13f",
   "metadata": {
    "tags": []
   },
   "outputs": [],
   "source": [
    "# Defining a function for unit conversion\n",
    "def UnitConversion(array, SnapNum, unit):\n",
    "    header = il.groupcat.loadHeader(basePath, SnapNum)\n",
    "    h = header['HubbleParam']\n",
    "    a = header['Time']\n",
    "    if unit == 'mass':\n",
    "        array = array * 1e10 / h # In Msun unit\n",
    "    if unit == 'length':\n",
    "        array = array * a / (1e3 * h) # In Mpc unit\n",
    "    return array"
   ]
  },
  {
   "cell_type": "code",
   "execution_count": 7,
   "id": "dc1c9523-08a8-47bb-8a2b-efe8823c7a5b",
   "metadata": {
    "tags": []
   },
   "outputs": [],
   "source": [
    "fields = ['Group_M_Crit200', 'GroupFirstSub']"
   ]
  },
  {
   "cell_type": "code",
   "execution_count": 8,
   "id": "e4305a29-2b1f-4566-8d72-e0e42c426255",
   "metadata": {
    "tags": []
   },
   "outputs": [],
   "source": [
    "halos = il.groupcat.loadHalos(basePath, SnapNum, fields=fields)"
   ]
  },
  {
   "cell_type": "code",
   "execution_count": 9,
   "id": "24972a8a-83e6-4b78-b3e5-e2371e0e1104",
   "metadata": {
    "tags": []
   },
   "outputs": [],
   "source": [
    "halos_mass = UnitConversion(halos['Group_M_Crit200'], SnapNum, 'mass')\n",
    "# halos_mass"
   ]
  },
  {
   "cell_type": "code",
   "execution_count": 10,
   "id": "84f2d443-6795-4ff0-9c68-a887eab7c91c",
   "metadata": {
    "tags": []
   },
   "outputs": [
    {
     "data": {
      "text/plain": [
       "2010258"
      ]
     },
     "execution_count": 10,
     "metadata": {},
     "output_type": "execute_result"
    }
   ],
   "source": [
    "# Selecting the halos above a certain threshold mass\n",
    "halo_IDs = np.nonzero(halos_mass >= threshold_mass)\n",
    "len(halo_IDs[0])"
   ]
  },
  {
   "cell_type": "code",
   "execution_count": 11,
   "id": "385f75b0-49da-4045-a9f5-23e7a1591a53",
   "metadata": {
    "tags": []
   },
   "outputs": [],
   "source": [
    "halo_mass = halos_mass[halo_IDs]"
   ]
  },
  {
   "cell_type": "code",
   "execution_count": 12,
   "id": "aaae3a31-c4fc-4d2b-93c8-444b69e13c55",
   "metadata": {
    "tags": []
   },
   "outputs": [
    {
     "data": {
      "text/plain": [
       "2010258"
      ]
     },
     "execution_count": 12,
     "metadata": {},
     "output_type": "execute_result"
    }
   ],
   "source": [
    "# Extracting the central subhalos of the selected halos\n",
    "sub_halos_ID = halos['GroupFirstSub'][halo_IDs]\n",
    "n = len(sub_halos_ID)\n",
    "n\n",
    "# sub_halos_ID[-10:]"
   ]
  },
  {
   "cell_type": "code",
   "execution_count": 13,
   "id": "d5b3910f-6e99-485f-b1f7-e889920b496c",
   "metadata": {
    "tags": []
   },
   "outputs": [],
   "source": [
    "def process_subhalo(subhalo_id):\n",
    "    bh = il.snapshot.loadSubhalo(basePath, SnapNum, subhalo_id, partType=5, fields=['BH_Mass', 'Masses'])\n",
    "    if bh['count'] > 0:\n",
    "        return UnitConversion(bh['BH_Mass'][0], SnapNum, 'mass')\n",
    "    return None\n",
    "\n",
    "def process_subhalos(subhalo_ids):\n",
    "    with mp.Pool(10) as pool:\n",
    "        results = pool.map(process_subhalo, subhalo_ids)\n",
    "    return results"
   ]
  },
  {
   "cell_type": "code",
   "execution_count": 14,
   "id": "84347e65-7c54-4720-a11b-c54e6ef17891",
   "metadata": {
    "tags": []
   },
   "outputs": [],
   "source": [
    "bh_mass_99 = []"
   ]
  },
  {
   "cell_type": "code",
   "execution_count": 15,
   "id": "78fce6d7-758b-4238-8812-cf66db8d46c8",
   "metadata": {
    "tags": []
   },
   "outputs": [
    {
     "name": "stdout",
     "output_type": "stream",
     "text": [
      "1 2 3 4 5 6 7 8 9 10 11 12 13 14 15 16 17 18 19 20 21 "
     ]
    }
   ],
   "source": [
    "count = 0\n",
    "chunk_size = 100000\n",
    "chunks = [sub_halos_ID[i:i + chunk_size] for i in range(0, n, chunk_size)]\n",
    "\n",
    "for chunk in chunks:\n",
    "    bh_mass_99 += [mass for mass in process_subhalos(chunk) if mass is not None]\n",
    "    print(count+1, end=' ')\n",
    "    count += 1"
   ]
  },
  {
   "cell_type": "code",
   "execution_count": 16,
   "id": "a09aadf2-ed5e-4bbb-85e0-24449eec8dbb",
   "metadata": {
    "tags": []
   },
   "outputs": [
    {
     "data": {
      "text/plain": [
       "(515161,)"
      ]
     },
     "execution_count": 16,
     "metadata": {},
     "output_type": "execute_result"
    }
   ],
   "source": [
    "np.shape(bh_mass_99)"
   ]
  },
  {
   "cell_type": "code",
   "execution_count": 17,
   "id": "98f55b85-fbdb-418c-b67b-88afac51ca55",
   "metadata": {
    "tags": []
   },
   "outputs": [],
   "source": [
    "fields = ['SubhaloLenType', 'SubhaloGrNr']"
   ]
  },
  {
   "cell_type": "code",
   "execution_count": 18,
   "id": "584517c4-c984-4bd1-9989-70f7c19be3f1",
   "metadata": {
    "tags": []
   },
   "outputs": [],
   "source": [
    "test_sbhalo = il.groupcat.loadSubhalos(basePath, SnapNum, fields=fields)"
   ]
  },
  {
   "cell_type": "code",
   "execution_count": 19,
   "id": "066e3e3a-cef6-4de1-9974-adc20dc9efd8",
   "metadata": {
    "tags": []
   },
   "outputs": [],
   "source": [
    "bh_num = [test[5] for test in test_sbhalo['SubhaloLenType']]"
   ]
  },
  {
   "cell_type": "code",
   "execution_count": 20,
   "id": "95dec147-d4c8-4f70-af6a-a974b9ce2c4c",
   "metadata": {
    "tags": []
   },
   "outputs": [
    {
     "data": {
      "text/plain": [
       "14485709"
      ]
     },
     "execution_count": 20,
     "metadata": {},
     "output_type": "execute_result"
    }
   ],
   "source": [
    "len(bh_num)"
   ]
  },
  {
   "cell_type": "code",
   "execution_count": 21,
   "id": "46ceece0-2c32-43ee-91a1-c2aa48094f39",
   "metadata": {
    "tags": []
   },
   "outputs": [],
   "source": [
    "filtered_indices = [i for i in sub_halos_ID if bh_num[i] != 0]"
   ]
  },
  {
   "cell_type": "code",
   "execution_count": 22,
   "id": "c8e3f2f0-386d-4888-a413-cea14bc7c093",
   "metadata": {
    "tags": []
   },
   "outputs": [
    {
     "data": {
      "text/plain": [
       "515161"
      ]
     },
     "execution_count": 22,
     "metadata": {},
     "output_type": "execute_result"
    }
   ],
   "source": [
    "len(filtered_indices)"
   ]
  },
  {
   "cell_type": "code",
   "execution_count": 23,
   "id": "d389aaae-1cb0-4d78-a90b-bddffab63827",
   "metadata": {
    "tags": []
   },
   "outputs": [],
   "source": [
    "nonzero_bh_halo_ID = test_sbhalo['SubhaloGrNr'][filtered_indices]"
   ]
  },
  {
   "cell_type": "code",
   "execution_count": 24,
   "id": "c5bfd37d-8cfd-4a48-9815-38a03a759269",
   "metadata": {
    "tags": []
   },
   "outputs": [
    {
     "data": {
      "text/plain": [
       "515161"
      ]
     },
     "execution_count": 24,
     "metadata": {},
     "output_type": "execute_result"
    }
   ],
   "source": [
    "len(nonzero_bh_halo_ID)"
   ]
  },
  {
   "cell_type": "code",
   "execution_count": 25,
   "id": "26cb3d9f-0478-40e4-baa4-296d21d1dafc",
   "metadata": {
    "tags": []
   },
   "outputs": [],
   "source": [
    "halo_mass_99 = halos_mass[nonzero_bh_halo_ID]"
   ]
  },
  {
   "cell_type": "code",
   "execution_count": 26,
   "id": "fbc33328-6e35-4748-ac38-506441f6e22d",
   "metadata": {
    "tags": []
   },
   "outputs": [
    {
     "data": {
      "text/plain": [
       "515161"
      ]
     },
     "execution_count": 26,
     "metadata": {},
     "output_type": "execute_result"
    }
   ],
   "source": [
    "len(halo_mass_99)"
   ]
  },
  {
   "cell_type": "code",
   "execution_count": 27,
   "id": "b4370ef5-d159-4132-b0fb-f596be59f8dc",
   "metadata": {
    "tags": []
   },
   "outputs": [],
   "source": [
    "# fig, ax = plt.subplots(figsize=(18, 10), layout='constrained')\n",
    "\n",
    "# ax.plot(halo_mass, bh_mass, 'o', markersize=3)\n",
    "# ax.set_xscale('log')\n",
    "# ax.set_yscale('log')\n",
    "# ax.set_xlabel('M$_{200c}$ [M$_\\odot$]', fontsize='large')\n",
    "# ax.set_ylabel('M$_{SMBH}$ [M$_\\odot$]', fontsize='large')\n",
    "# ax.legend(title='TNG300-1', title_fontsize='medium')\n",
    "\n",
    "# plt.show()"
   ]
  },
  {
   "cell_type": "code",
   "execution_count": 40,
   "id": "52be3974-8fe6-4167-b0b4-e09dc17241f5",
   "metadata": {
    "tags": []
   },
   "outputs": [],
   "source": [
    "y_med, _, _, = st.binned_statistic(halo_mass_99, bh_mass_99, statistic='median', bins=7e4)\n",
    "x_med, _, _, = st.binned_statistic(bh_mass_99, halo_mass_99, statistic='median', bins=7e4)"
   ]
  },
  {
   "cell_type": "code",
   "execution_count": 41,
   "id": "061622de-4203-4aba-8db1-2f53d491f9bd",
   "metadata": {
    "tags": []
   },
   "outputs": [
    {
     "data": {
      "text/plain": [
       "'6.31e+04'"
      ]
     },
     "execution_count": 41,
     "metadata": {},
     "output_type": "execute_result"
    }
   ],
   "source": [
    "format(1e5/ 10**0.2, '.3g')"
   ]
  },
  {
   "cell_type": "code",
   "execution_count": 45,
   "id": "23eb11c8-584b-43b0-95d7-28238a309bce",
   "metadata": {
    "tags": []
   },
   "outputs": [
    {
     "data": {
      "image/png": "[encoded data removed]",
      "text/plain": [
       "<Figure size 1800x1000 with 1 Axes>"
      ]
     },
     "metadata": {},
     "output_type": "display_data"
    }
   ],
   "source": [
    "fig, ax = plt.subplots(figsize=(18, 10), layout='constrained')\n",
    "\n",
    "ax.plot(x_med, y_med, 'o', c='gray', label='Median binned (z=0)')\n",
    "ax.set_xscale('log')\n",
    "ax.set_yscale('log')\n",
    "# ax.set_xlim(right=2e15)\n",
    "# ax.set_ylim(bottom=5e9)\n",
    "ax.set_xlabel('M$_{200c}$ [M$_\\odot}$]', fontsize='xx-large')\n",
    "ax.set_ylabel('M$_{SMBH}$ [M$_\\odot}$]', fontsize='xx-large')\n",
    "ax.legend(title='TNG300-1', title_fontsize='xx-large', fontsize='x-large')\n",
    "plt.grid(True)\n",
    "plt.savefig('median_binned.png')\n",
    "plt.show()"
   ]
  },
  {
   "cell_type": "code",
   "execution_count": null,
   "id": "9a25551c-256f-4ef0-a59e-deda85e15ec7",
   "metadata": {},
   "outputs": [],
   "source": []
  }
 ],
 "metadata": {
  "kernelspec": {
   "display_name": "Python 3 (ipykernel)",
   "language": "python",
   "name": "python3"
  },
  "language_info": {
   "codemirror_mode": {
    "name": "ipython",
    "version": 3
   },
   "file_extension": ".py",
   "mimetype": "text/x-python",
   "name": "python",
   "nbconvert_exporter": "python",
   "pygments_lexer": "ipython3",
   "version": "3.11.4"
  }
 },
 "nbformat": 4,
 "nbformat_minor": 5
}
